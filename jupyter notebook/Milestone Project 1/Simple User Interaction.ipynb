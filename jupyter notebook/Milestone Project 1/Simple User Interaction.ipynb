{
 "cells": [
  {
   "cell_type": "code",
   "execution_count": 3,
   "id": "d6fd5878",
   "metadata": {},
   "outputs": [],
   "source": [
    "game_list = [0,1,2]"
   ]
  },
  {
   "cell_type": "code",
   "execution_count": 4,
   "id": "34872ffc",
   "metadata": {},
   "outputs": [],
   "source": [
    "def display_game(game_list):\n",
    "    print(\"Here is the current list: \")\n",
    "    print(game_list)"
   ]
  },
  {
   "cell_type": "code",
   "execution_count": 5,
   "id": "0f8761be",
   "metadata": {},
   "outputs": [
    {
     "name": "stdout",
     "output_type": "stream",
     "text": [
      "Here is the current list: \n",
      "[0, 1, 2]\n"
     ]
    }
   ],
   "source": [
    "display_game(game_list)"
   ]
  },
  {
   "cell_type": "code",
   "execution_count": 6,
   "id": "bb8af7dc",
   "metadata": {},
   "outputs": [],
   "source": [
    "def position_choice():\n",
    "    \n",
    "    choice = input('Pick a position (0,1,2): ')\n",
    "    \n",
    "    if int(choice) in game_list:\n",
    "        return int(choice)\n",
    "    else:\n",
    "        print(f'Sorry, invalid choice!')\n",
    "        position_choice()"
   ]
  },
  {
   "cell_type": "code",
   "execution_count": 7,
   "id": "055dbdb8",
   "metadata": {},
   "outputs": [
    {
     "name": "stdout",
     "output_type": "stream",
     "text": [
      "Pick a position (0,1,2): 5\n",
      "Sorry, invalid choice!\n",
      "Pick a position (0,1,2): -1\n",
      "Sorry, invalid choice!\n",
      "Pick a position (0,1,2): 2\n"
     ]
    }
   ],
   "source": [
    "position_choice()"
   ]
  },
  {
   "cell_type": "code",
   "execution_count": 8,
   "id": "26e71bf8",
   "metadata": {},
   "outputs": [],
   "source": [
    "def replacement_value(game_list, position):\n",
    "    \n",
    "    user_placement = input(\"Type a string to place at position: \")\n",
    "    \n",
    "    game_list[position] = user_placement\n",
    "    \n",
    "    return game_list"
   ]
  },
  {
   "cell_type": "code",
   "execution_count": 10,
   "id": "c31a55b8",
   "metadata": {},
   "outputs": [
    {
     "name": "stdout",
     "output_type": "stream",
     "text": [
      "Type a string to place at position: h\n"
     ]
    },
    {
     "data": {
      "text/plain": [
       "[0, 'h', 2]"
      ]
     },
     "execution_count": 10,
     "metadata": {},
     "output_type": "execute_result"
    }
   ],
   "source": [
    "replacement_value(game_list,1)"
   ]
  },
  {
   "cell_type": "code",
   "execution_count": 11,
   "id": "9dec458a",
   "metadata": {},
   "outputs": [],
   "source": [
    "def gameon_choice():\n",
    "    \n",
    "    choice = input('Do you want to keep playing? (Y or N) ')\n",
    "    \n",
    "    if choice == 'Y':\n",
    "        gameon_choice()\n",
    "    else:\n",
    "        print(f'Sorry to see you go! Bye')"
   ]
  },
  {
   "cell_type": "code",
   "execution_count": 13,
   "id": "5bd2341c",
   "metadata": {},
   "outputs": [
    {
     "name": "stdout",
     "output_type": "stream",
     "text": [
      "Do you want to keep playing? (Y or N) Y\n",
      "Do you want to keep playing? (Y or N) Y\n",
      "Do you want to keep playing? (Y or N) N\n",
      "Sorry to see you go! Bye\n"
     ]
    }
   ],
   "source": [
    "gameon_choice()"
   ]
  },
  {
   "cell_type": "code",
   "execution_count": 15,
   "id": "37c747a7",
   "metadata": {},
   "outputs": [
    {
     "name": "stdout",
     "output_type": "stream",
     "text": [
      "Here is the current list: \n",
      "[0, 1, 2]\n",
      "Pick a position (0,1,2): 2\n",
      "Type a string to place at position: Y\n",
      "Here is the current list: \n",
      "[0, 1, 'Y']\n",
      "Do you want to keep playing? (Y or N) N\n",
      "Sorry to see you go! Bye\n"
     ]
    }
   ],
   "source": [
    "game_on = True\n",
    "game_list = [0,1,2]\n",
    "\n",
    "while game_on:\n",
    "    \n",
    "    display_game(game_list)\n",
    "    \n",
    "    position = position_choice()\n",
    "    \n",
    "    game_list = replacement_value(game_list,position)\n",
    "    \n",
    "    display_game(game_list)\n",
    "    \n",
    "    game_on = gameon_choice()"
   ]
  },
  {
   "cell_type": "code",
   "execution_count": null,
   "id": "4a915248",
   "metadata": {},
   "outputs": [],
   "source": []
  }
 ],
 "metadata": {
  "kernelspec": {
   "display_name": "Python 3 (ipykernel)",
   "language": "python",
   "name": "python3"
  },
  "language_info": {
   "codemirror_mode": {
    "name": "ipython",
    "version": 3
   },
   "file_extension": ".py",
   "mimetype": "text/x-python",
   "name": "python",
   "nbconvert_exporter": "python",
   "pygments_lexer": "ipython3",
   "version": "3.11.4"
  }
 },
 "nbformat": 4,
 "nbformat_minor": 5
}
