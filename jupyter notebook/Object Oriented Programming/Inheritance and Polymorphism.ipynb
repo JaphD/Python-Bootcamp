{
 "cells": [
  {
   "cell_type": "code",
   "execution_count": 14,
   "id": "fef28f79",
   "metadata": {},
   "outputs": [],
   "source": [
    "class Animal():\n",
    "    \n",
    "    def __init__(self):\n",
    "        print(\"ANIMAL CREATED\")\n",
    "    \n",
    "    def who_am_i(self):\n",
    "        print(\"I am an animal\")\n",
    "    \n",
    "    def eat(self):\n",
    "        print(\"I am eating\")"
   ]
  },
  {
   "cell_type": "code",
   "execution_count": 21,
   "id": "dfdd3a6f",
   "metadata": {},
   "outputs": [],
   "source": [
    "class Dog(Animal):\n",
    "    \n",
    "    def __init__(self):\n",
    "        Animal.__init__(self)\n",
    "        print(\"Dog Created\")\n",
    "        \n",
    "    def who_am_i(self):\n",
    "        print(\"I am a dog!\")\n",
    "    \n",
    "    def bark(self):\n",
    "        print(\"WOOF!\")\n",
    "        \n",
    "    def eat(self):\n",
    "        print(\"I am a dog and eating\")"
   ]
  },
  {
   "cell_type": "code",
   "execution_count": 22,
   "id": "1a1fdc7f",
   "metadata": {},
   "outputs": [
    {
     "name": "stdout",
     "output_type": "stream",
     "text": [
      "ANIMAL CREATED\n",
      "Dog Created\n"
     ]
    }
   ],
   "source": [
    "mydog = Dog()"
   ]
  },
  {
   "cell_type": "code",
   "execution_count": 23,
   "id": "1ee6ad3d",
   "metadata": {},
   "outputs": [
    {
     "name": "stdout",
     "output_type": "stream",
     "text": [
      "I am a dog!\n"
     ]
    }
   ],
   "source": [
    "mydog.who_am_i()"
   ]
  },
  {
   "cell_type": "code",
   "execution_count": 25,
   "id": "412f2daa",
   "metadata": {},
   "outputs": [
    {
     "name": "stdout",
     "output_type": "stream",
     "text": [
      "I am a dog and eating\n"
     ]
    }
   ],
   "source": [
    "mydog.eat()"
   ]
  },
  {
   "cell_type": "code",
   "execution_count": 26,
   "id": "341a5817",
   "metadata": {},
   "outputs": [
    {
     "name": "stdout",
     "output_type": "stream",
     "text": [
      "WOOF!\n"
     ]
    }
   ],
   "source": [
    "mydog.bark()"
   ]
  },
  {
   "cell_type": "markdown",
   "id": "5e7e88c9",
   "metadata": {},
   "source": [
    "Polymorphism"
   ]
  },
  {
   "cell_type": "code",
   "execution_count": 39,
   "id": "3d6c6e4b",
   "metadata": {},
   "outputs": [],
   "source": [
    "class Cat():\n",
    "    \n",
    "    def __init__(self,name):\n",
    "        self.name = name\n",
    "    \n",
    "    def speak(self):\n",
    "        return self.name + \" says meow!\""
   ]
  },
  {
   "cell_type": "code",
   "execution_count": 40,
   "id": "e7be90a6",
   "metadata": {},
   "outputs": [],
   "source": [
    "class Parrot():\n",
    "    \n",
    "    def __init__(self,name):\n",
    "        self.name = name\n",
    "    \n",
    "    def speak(self):\n",
    "        return self.name + \" says chirp!\""
   ]
  },
  {
   "cell_type": "code",
   "execution_count": 41,
   "id": "41bf6a7a",
   "metadata": {},
   "outputs": [],
   "source": [
    "saya = Cat('saya')\n",
    "birg = Parrot('birg')"
   ]
  },
  {
   "cell_type": "code",
   "execution_count": 42,
   "id": "27c6d490",
   "metadata": {},
   "outputs": [
    {
     "name": "stdout",
     "output_type": "stream",
     "text": [
      "saya says meow!\n"
     ]
    }
   ],
   "source": [
    "print(saya.speak())"
   ]
  },
  {
   "cell_type": "code",
   "execution_count": 43,
   "id": "8e8a3b58",
   "metadata": {},
   "outputs": [
    {
     "name": "stdout",
     "output_type": "stream",
     "text": [
      "birg says chirp!\n"
     ]
    }
   ],
   "source": [
    "print(birg.speak())"
   ]
  },
  {
   "cell_type": "code",
   "execution_count": 46,
   "id": "0ec93d0a",
   "metadata": {},
   "outputs": [
    {
     "name": "stdout",
     "output_type": "stream",
     "text": [
      "<class '__main__.Cat'>\n",
      "<class 'str'>\n",
      "<class '__main__.Parrot'>\n",
      "<class 'str'>\n"
     ]
    }
   ],
   "source": [
    "for pet in [saya, birg]:\n",
    "    \n",
    "    print(type(pet))\n",
    "    print(type(pet.speak()))"
   ]
  },
  {
   "cell_type": "code",
   "execution_count": 47,
   "id": "730c9c7d",
   "metadata": {},
   "outputs": [],
   "source": [
    "def pet_speak(pet):\n",
    "    print(pet.speak())"
   ]
  },
  {
   "cell_type": "code",
   "execution_count": 48,
   "id": "ff9df4b3",
   "metadata": {},
   "outputs": [
    {
     "name": "stdout",
     "output_type": "stream",
     "text": [
      "saya says meow!\n"
     ]
    }
   ],
   "source": [
    "pet_speak(saya)"
   ]
  },
  {
   "cell_type": "code",
   "execution_count": 49,
   "id": "8dd7f3b6",
   "metadata": {},
   "outputs": [
    {
     "name": "stdout",
     "output_type": "stream",
     "text": [
      "birg says chirp!\n"
     ]
    }
   ],
   "source": [
    "pet_speak(birg)"
   ]
  },
  {
   "cell_type": "code",
   "execution_count": 51,
   "id": "3c3df439",
   "metadata": {},
   "outputs": [],
   "source": [
    "class Animal():\n",
    "    \n",
    "    def __init__(self,name):\n",
    "        self.name = name\n",
    "        \n",
    "    def speak(self):\n",
    "        raise NotImplementedError(\"Subclass must implement this abstract method\")"
   ]
  },
  {
   "cell_type": "markdown",
   "id": "11b45762",
   "metadata": {},
   "source": [
    "In the above code, the speak method serves as an abstract method where you are expected to overwrite it in child classes."
   ]
  },
  {
   "cell_type": "code",
   "execution_count": 52,
   "id": "dcaf109c",
   "metadata": {},
   "outputs": [],
   "source": [
    "class Dog(Animal):\n",
    "    \n",
    "    def speak(self):\n",
    "        return self.name + \" says woof\""
   ]
  },
  {
   "cell_type": "code",
   "execution_count": 53,
   "id": "9a743648",
   "metadata": {},
   "outputs": [],
   "source": [
    "fido = Dog(\"Fido\")"
   ]
  },
  {
   "cell_type": "code",
   "execution_count": 54,
   "id": "d1b6db53",
   "metadata": {},
   "outputs": [],
   "source": [
    "isis = Cat(\"Isis\")"
   ]
  },
  {
   "cell_type": "code",
   "execution_count": 55,
   "id": "8f5aa97e",
   "metadata": {},
   "outputs": [
    {
     "name": "stdout",
     "output_type": "stream",
     "text": [
      "Fido says woof\n"
     ]
    }
   ],
   "source": [
    "print(fido.speak())"
   ]
  },
  {
   "cell_type": "code",
   "execution_count": 56,
   "id": "9167d4b3",
   "metadata": {},
   "outputs": [
    {
     "name": "stdout",
     "output_type": "stream",
     "text": [
      "Isis says meow!\n"
     ]
    }
   ],
   "source": [
    "print(isis.speak())"
   ]
  },
  {
   "cell_type": "code",
   "execution_count": null,
   "id": "9a9baed2",
   "metadata": {},
   "outputs": [],
   "source": []
  }
 ],
 "metadata": {
  "kernelspec": {
   "display_name": "Python 3 (ipykernel)",
   "language": "python",
   "name": "python3"
  },
  "language_info": {
   "codemirror_mode": {
    "name": "ipython",
    "version": 3
   },
   "file_extension": ".py",
   "mimetype": "text/x-python",
   "name": "python",
   "nbconvert_exporter": "python",
   "pygments_lexer": "ipython3",
   "version": "3.11.4"
  }
 },
 "nbformat": 4,
 "nbformat_minor": 5
}
