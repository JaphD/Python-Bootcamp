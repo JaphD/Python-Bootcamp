{
 "cells": [
  {
   "cell_type": "code",
   "execution_count": 1,
   "id": "8948c6f8",
   "metadata": {},
   "outputs": [],
   "source": [
    "name = 'Yafet'"
   ]
  },
  {
   "cell_type": "code",
   "execution_count": 2,
   "id": "23c20f85",
   "metadata": {},
   "outputs": [
    {
     "data": {
      "text/plain": [
       "'t'"
      ]
     },
     "execution_count": 2,
     "metadata": {},
     "output_type": "execute_result"
    }
   ],
   "source": [
    "name[4:]"
   ]
  },
  {
   "cell_type": "code",
   "execution_count": 6,
   "id": "7915e802",
   "metadata": {},
   "outputs": [],
   "source": [
    "last_letters = name[3:]"
   ]
  },
  {
   "cell_type": "code",
   "execution_count": 7,
   "id": "8d0e1e8c",
   "metadata": {},
   "outputs": [
    {
     "data": {
      "text/plain": [
       "'et'"
      ]
     },
     "execution_count": 7,
     "metadata": {},
     "output_type": "execute_result"
    }
   ],
   "source": [
    "last_letters"
   ]
  },
  {
   "cell_type": "code",
   "execution_count": 8,
   "id": "9ad59f4c",
   "metadata": {},
   "outputs": [
    {
     "data": {
      "text/plain": [
       "'Pet'"
      ]
     },
     "execution_count": 8,
     "metadata": {},
     "output_type": "execute_result"
    }
   ],
   "source": [
    "'P'+last_letters"
   ]
  },
  {
   "cell_type": "code",
   "execution_count": 9,
   "id": "e35346fc",
   "metadata": {},
   "outputs": [],
   "source": [
    "y = 'Hello World'"
   ]
  },
  {
   "cell_type": "code",
   "execution_count": 20,
   "id": "09c4c3fa",
   "metadata": {},
   "outputs": [],
   "source": [
    "y += ' it is a wonderful day'"
   ]
  },
  {
   "cell_type": "code",
   "execution_count": 15,
   "id": "cdb52774",
   "metadata": {},
   "outputs": [
    {
     "name": "stdout",
     "output_type": "stream",
     "text": [
      "Hello Worldit is a wonderful day\n"
     ]
    }
   ],
   "source": [
    "print(y)"
   ]
  },
  {
   "cell_type": "code",
   "execution_count": 21,
   "id": "ac3ed575",
   "metadata": {},
   "outputs": [
    {
     "name": "stdout",
     "output_type": "stream",
     "text": [
      "Hello Worldit is a wonderful day it is a wonderful day it is a wonderful day\n"
     ]
    }
   ],
   "source": [
    "print(y)"
   ]
  },
  {
   "cell_type": "code",
   "execution_count": 22,
   "id": "7bf99255",
   "metadata": {},
   "outputs": [],
   "source": [
    "y = 'yafet daniel'"
   ]
  },
  {
   "cell_type": "code",
   "execution_count": 26,
   "id": "aaac5021",
   "metadata": {},
   "outputs": [
    {
     "data": {
      "text/plain": [
       "'Yafet daniel'"
      ]
     },
     "execution_count": 26,
     "metadata": {},
     "output_type": "execute_result"
    }
   ],
   "source": [
    "y.capitalize()"
   ]
  },
  {
   "cell_type": "code",
   "execution_count": 25,
   "id": "c401a701",
   "metadata": {},
   "outputs": [
    {
     "data": {
      "text/plain": [
       "False"
      ]
     },
     "execution_count": 25,
     "metadata": {},
     "output_type": "execute_result"
    }
   ],
   "source": [
    "y.isupper()"
   ]
  },
  {
   "cell_type": "code",
   "execution_count": 27,
   "id": "f416d562",
   "metadata": {},
   "outputs": [
    {
     "data": {
      "text/plain": [
       "['yafet', 'daniel']"
      ]
     },
     "execution_count": 27,
     "metadata": {},
     "output_type": "execute_result"
    }
   ],
   "source": [
    "y.split()"
   ]
  },
  {
   "cell_type": "code",
   "execution_count": 29,
   "id": "2500760a",
   "metadata": {},
   "outputs": [
    {
     "data": {
      "text/plain": [
       "['yaf', 't dani', 'l']"
      ]
     },
     "execution_count": 29,
     "metadata": {},
     "output_type": "execute_result"
    }
   ],
   "source": [
    "y.split('e')"
   ]
  },
  {
   "cell_type": "code",
   "execution_count": null,
   "id": "549683c2",
   "metadata": {},
   "outputs": [],
   "source": []
  }
 ],
 "metadata": {
  "kernelspec": {
   "display_name": "Python 3 (ipykernel)",
   "language": "python",
   "name": "python3"
  },
  "language_info": {
   "codemirror_mode": {
    "name": "ipython",
    "version": 3
   },
   "file_extension": ".py",
   "mimetype": "text/x-python",
   "name": "python",
   "nbconvert_exporter": "python",
   "pygments_lexer": "ipython3",
   "version": "3.11.4"
  }
 },
 "nbformat": 4,
 "nbformat_minor": 5
}
