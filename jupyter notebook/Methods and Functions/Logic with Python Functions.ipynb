{
 "cells": [
  {
   "cell_type": "markdown",
   "id": "3769d5c3",
   "metadata": {},
   "source": [
    " Checking even number"
   ]
  },
  {
   "cell_type": "code",
   "execution_count": 1,
   "id": "388d4c70",
   "metadata": {},
   "outputs": [],
   "source": [
    "def even_check(num):\n",
    "    return (num%2 == 0)"
   ]
  },
  {
   "cell_type": "code",
   "execution_count": 2,
   "id": "1b7e3410",
   "metadata": {},
   "outputs": [
    {
     "data": {
      "text/plain": [
       "True"
      ]
     },
     "execution_count": 2,
     "metadata": {},
     "output_type": "execute_result"
    }
   ],
   "source": [
    "even_check(56)"
   ]
  },
  {
   "cell_type": "code",
   "execution_count": 3,
   "id": "53317b62",
   "metadata": {},
   "outputs": [
    {
     "data": {
      "text/plain": [
       "False"
      ]
     },
     "execution_count": 3,
     "metadata": {},
     "output_type": "execute_result"
    }
   ],
   "source": [
    "even_check(77)"
   ]
  },
  {
   "cell_type": "code",
   "execution_count": 4,
   "id": "c981dbf4",
   "metadata": {},
   "outputs": [],
   "source": [
    "def even_check(num):\n",
    "    '''\n",
    "    Checks whether the argument is evenly disible by two\n",
    "    '''\n",
    "    return (num%2 == 0)"
   ]
  },
  {
   "cell_type": "code",
   "execution_count": 5,
   "id": "474e6bf7",
   "metadata": {},
   "outputs": [
    {
     "name": "stdout",
     "output_type": "stream",
     "text": [
      "Help on function even_check in module __main__:\n",
      "\n",
      "even_check(num)\n",
      "    Checks whether the argument is evenly disible by two\n",
      "\n"
     ]
    }
   ],
   "source": [
    "help(even_check)"
   ]
  },
  {
   "cell_type": "markdown",
   "id": "39c21bcc",
   "metadata": {},
   "source": [
    "Return True if any number is even inside a list"
   ]
  },
  {
   "cell_type": "code",
   "execution_count": 17,
   "id": "7eeac2ef",
   "metadata": {},
   "outputs": [],
   "source": [
    "def check_even_list(num_list):\n",
    "    \n",
    "    for number in num_list:\n",
    "        if number%2 == 0:\n",
    "            return True\n",
    "        else:\n",
    "            pass\n",
    "    return False"
   ]
  },
  {
   "cell_type": "code",
   "execution_count": 18,
   "id": "48b93af1",
   "metadata": {},
   "outputs": [],
   "source": [
    "num_list = [x for x in range(5)]"
   ]
  },
  {
   "cell_type": "code",
   "execution_count": 19,
   "id": "d8be2f4d",
   "metadata": {},
   "outputs": [
    {
     "data": {
      "text/plain": [
       "True"
      ]
     },
     "execution_count": 19,
     "metadata": {},
     "output_type": "execute_result"
    }
   ],
   "source": [
    "check_even_list(num_list)"
   ]
  },
  {
   "cell_type": "code",
   "execution_count": 20,
   "id": "238c4ac5",
   "metadata": {},
   "outputs": [
    {
     "data": {
      "text/plain": [
       "False"
      ]
     },
     "execution_count": 20,
     "metadata": {},
     "output_type": "execute_result"
    }
   ],
   "source": [
    "check_even_list([1,5,7])"
   ]
  },
  {
   "cell_type": "markdown",
   "id": "f7715bec",
   "metadata": {},
   "source": [
    "Return the even numbers in a list"
   ]
  },
  {
   "cell_type": "code",
   "execution_count": 23,
   "id": "44ca1bfc",
   "metadata": {},
   "outputs": [],
   "source": [
    "def check_even_list(num_list):\n",
    "    \n",
    "    #placeholder variables\n",
    "    even_numbers = []\n",
    "    \n",
    "    for num in num_list:\n",
    "        if num % 2 == 0:\n",
    "            even_numbers.append(num)\n",
    "        else:\n",
    "            pass\n",
    "    return even_numbers"
   ]
  },
  {
   "cell_type": "code",
   "execution_count": 24,
   "id": "8ff80712",
   "metadata": {},
   "outputs": [],
   "source": [
    "num_list = [x for x in range(11)]"
   ]
  },
  {
   "cell_type": "code",
   "execution_count": 25,
   "id": "5cc15a3c",
   "metadata": {},
   "outputs": [
    {
     "data": {
      "text/plain": [
       "[0, 2, 4, 6, 8, 10]"
      ]
     },
     "execution_count": 25,
     "metadata": {},
     "output_type": "execute_result"
    }
   ],
   "source": [
    "check_even_list(num_list)"
   ]
  }
 ],
 "metadata": {
  "kernelspec": {
   "display_name": "Python 3 (ipykernel)",
   "language": "python",
   "name": "python3"
  },
  "language_info": {
   "codemirror_mode": {
    "name": "ipython",
    "version": 3
   },
   "file_extension": ".py",
   "mimetype": "text/x-python",
   "name": "python",
   "nbconvert_exporter": "python",
   "pygments_lexer": "ipython3",
   "version": "3.11.4"
  }
 },
 "nbformat": 4,
 "nbformat_minor": 5
}
