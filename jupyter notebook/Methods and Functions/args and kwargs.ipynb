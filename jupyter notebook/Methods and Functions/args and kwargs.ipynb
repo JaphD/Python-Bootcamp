{
 "cells": [
  {
   "cell_type": "code",
   "execution_count": 1,
   "id": "3fc0926a",
   "metadata": {},
   "outputs": [],
   "source": [
    "def myfunc(a,b):\n",
    "    #Return 5% of the sum of a and b\n",
    "    return sum((a,b))*0.05"
   ]
  },
  {
   "cell_type": "markdown",
   "id": "f1fa5e81",
   "metadata": {},
   "source": [
    "The arguments a and b are positional arguments. Meaning when the function is called the values correspond with the positions "
   ]
  },
  {
   "cell_type": "code",
   "execution_count": 2,
   "id": "c923152f",
   "metadata": {},
   "outputs": [
    {
     "data": {
      "text/plain": [
       "4.75"
      ]
     },
     "execution_count": 2,
     "metadata": {},
     "output_type": "execute_result"
    }
   ],
   "source": [
    "myfunc(50,45)"
   ]
  },
  {
   "cell_type": "markdown",
   "id": "b9322497",
   "metadata": {},
   "source": [
    "We can use *args to have an arbitrary number of arguments. This will allow us to have the arguments as tuple in our function."
   ]
  },
  {
   "cell_type": "code",
   "execution_count": 3,
   "id": "eb6f9179",
   "metadata": {},
   "outputs": [],
   "source": [
    "def myfunc(*args):\n",
    "    return sum(args)*0.05"
   ]
  },
  {
   "cell_type": "code",
   "execution_count": 4,
   "id": "3a48a18f",
   "metadata": {},
   "outputs": [
    {
     "data": {
      "text/plain": [
       "0.55"
      ]
     },
     "execution_count": 4,
     "metadata": {},
     "output_type": "execute_result"
    }
   ],
   "source": [
    "myfunc(5,6)"
   ]
  },
  {
   "cell_type": "code",
   "execution_count": 6,
   "id": "1894309d",
   "metadata": {},
   "outputs": [
    {
     "data": {
      "text/plain": [
       "1.2000000000000002"
      ]
     },
     "execution_count": 6,
     "metadata": {},
     "output_type": "execute_result"
    }
   ],
   "source": [
    "myfunc(7,8,9)"
   ]
  },
  {
   "cell_type": "markdown",
   "id": "55e56e86",
   "metadata": {},
   "source": [
    "Note the args keyword can be changed to anything we want, just the star before it is necessary"
   ]
  },
  {
   "cell_type": "markdown",
   "id": "c72592ea",
   "metadata": {},
   "source": [
    "**kwargs returns back a dictionary while allowing an arbitrary number of arguments. kwargs can be interpreted as key word args. Note the kwargs keyword is arbitrary and can be changed but better to use it "
   ]
  },
  {
   "cell_type": "code",
   "execution_count": 7,
   "id": "d05bf21a",
   "metadata": {},
   "outputs": [],
   "source": [
    "def myfunc(**kwargs):\n",
    "    if 'fruit' in kwargs:\n",
    "        print('My fruit of choice is {}'.format(kwargs['fruit']))\n",
    "    else:\n",
    "        print('I did not find any fruit here')"
   ]
  },
  {
   "cell_type": "code",
   "execution_count": 8,
   "id": "8e2dbe8b",
   "metadata": {},
   "outputs": [
    {
     "name": "stdout",
     "output_type": "stream",
     "text": [
      "My fruit of choice is apple\n"
     ]
    }
   ],
   "source": [
    "myfunc(fruit='apple')"
   ]
  },
  {
   "cell_type": "code",
   "execution_count": 10,
   "id": "5442deb4",
   "metadata": {},
   "outputs": [
    {
     "name": "stdout",
     "output_type": "stream",
     "text": [
      "My fruit of choice is apple\n"
     ]
    }
   ],
   "source": [
    "myfunc(fruit='apple', veggie = 'lettuce')"
   ]
  },
  {
   "cell_type": "code",
   "execution_count": 13,
   "id": "f28d3a92",
   "metadata": {},
   "outputs": [],
   "source": [
    "def myfunc(*args,**kwargs):\n",
    "    print(args)\n",
    "    print(kwargs)\n",
    "    print('I would like {} {}'.format(args[0],kwargs['food']))"
   ]
  },
  {
   "cell_type": "code",
   "execution_count": 14,
   "id": "6ce8e2e1",
   "metadata": {},
   "outputs": [
    {
     "name": "stdout",
     "output_type": "stream",
     "text": [
      "(10, 20, 30)\n",
      "{'fruit': 'orange', 'food': 'eggs', 'animal': 'dog'}\n",
      "I would like 10 eggs\n"
     ]
    }
   ],
   "source": [
    "myfunc(10,20,30,fruit = 'orange', food = 'eggs', animal = 'dog')"
   ]
  },
  {
   "cell_type": "markdown",
   "id": "81999cb8",
   "metadata": {},
   "source": [
    "Note since we defined the above function with args and kwargs in that order, we have to keep that order when calling the function and inputting the values"
   ]
  },
  {
   "cell_type": "code",
   "execution_count": null,
   "id": "ba977059",
   "metadata": {},
   "outputs": [],
   "source": []
  }
 ],
 "metadata": {
  "kernelspec": {
   "display_name": "Python 3 (ipykernel)",
   "language": "python",
   "name": "python3"
  },
  "language_info": {
   "codemirror_mode": {
    "name": "ipython",
    "version": 3
   },
   "file_extension": ".py",
   "mimetype": "text/x-python",
   "name": "python",
   "nbconvert_exporter": "python",
   "pygments_lexer": "ipython3",
   "version": "3.11.4"
  }
 },
 "nbformat": 4,
 "nbformat_minor": 5
}
